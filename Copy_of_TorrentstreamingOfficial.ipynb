{
  "nbformat": 4,
  "nbformat_minor": 0,
  "metadata": {
    "colab": {
      "provenance": [],
      "include_colab_link": true
    },
    "kernelspec": {
      "name": "python3",
      "display_name": "Python 3"
    },
    "language_info": {
      "name": "python"
    }
  },
  "cells": [
    {
      "cell_type": "markdown",
      "metadata": {
        "id": "view-in-github",
        "colab_type": "text"
      },
      "source": [
        "<a href=\"https://colab.research.google.com/github/therionprime/evilrepository666/blob/main/Copy_of_TorrentstreamingOfficial.ipynb\" target=\"_parent\"><img src=\"https://colab.research.google.com/assets/colab-badge.svg\" alt=\"Open In Colab\"/></a>"
      ]
    },
    {
      "cell_type": "code",
      "execution_count": null,
      "metadata": {
        "colab": {
          "base_uri": "https://localhost:8080/"
        },
        "collapsed": true,
        "id": "Y9DxWPRTJ_xN",
        "outputId": "9988b1a0-8690-450d-e5ff-924b1ba1216d"
      },
      "outputs": [
        {
          "output_type": "stream",
          "name": "stdout",
          "text": [
            "  % Total    % Received % Xferd  Average Speed   Time    Time     Time  Current\n",
            "                                 Dload  Upload   Total   Spent    Left  Speed\n",
            "100 16555  100 16555    0     0  95622      0 --:--:-- --:--:-- --:--:-- 95693\n",
            "=> Downloading nvm from git to '/root/.nvm'\n",
            "=> Cloning into '/root/.nvm'...\n",
            "remote: Enumerating objects: 380, done.\u001b[K\n",
            "remote: Counting objects: 100% (380/380), done.\u001b[K\n",
            "remote: Compressing objects: 100% (323/323), done.\u001b[K\n",
            "remote: Total 380 (delta 43), reused 176 (delta 29), pack-reused 0 (from 0)\u001b[K\n",
            "Receiving objects: 100% (380/380), 382.20 KiB | 4.02 MiB/s, done.\n",
            "Resolving deltas: 100% (43/43), done.\n",
            "* \u001b[32m(HEAD detached at FETCH_HEAD)\u001b[m\n",
            "  master\u001b[m\n",
            "=> Compressing and cleaning up git repository\n",
            "\n",
            "=> Appending nvm source string to /root/.bashrc\n",
            "=> Appending bash_completion source string to /root/.bashrc\n",
            "=> You currently have modules installed globally with `npm`. These will no\n",
            "=> longer be linked to the active version of Node when you install a new node\n",
            "=> with `nvm`; and they may (depending on how you construct your `$PATH`)\n",
            "=> override the binaries of modules installed with `nvm`:\n",
            "\n",
            "/tools/node/lib\n",
            "├── corepack@0.17.0\n",
            "=> If you wish to uninstall them at a later point (or re-install them under your\n",
            "=> `nvm` Nodes), you can remove them from the system Node as follows:\n",
            "\n",
            "     $ nvm use system\n",
            "     $ npm uninstall -g a_module\n",
            "\n",
            "=> Close and reopen your terminal to start using nvm or run the following to use it now:\n",
            "\n",
            "export NVM_DIR=\"$HOME/.nvm\"\n",
            "[ -s \"$NVM_DIR/nvm.sh\" ] && \\. \"$NVM_DIR/nvm.sh\"  # This loads nvm\n",
            "[ -s \"$NVM_DIR/bash_completion\" ] && \\. \"$NVM_DIR/bash_completion\"  # This loads nvm bash_completion\n",
            "/bin/bash: line 1: nvm: command not found\n",
            "v16.20.2\n",
            "8.19.4\n",
            "Collecting pyngrok\n",
            "  Downloading pyngrok-7.2.1-py3-none-any.whl.metadata (8.3 kB)\n",
            "Requirement already satisfied: PyYAML>=5.1 in /usr/local/lib/python3.10/dist-packages (from pyngrok) (6.0.2)\n",
            "Downloading pyngrok-7.2.1-py3-none-any.whl (22 kB)\n",
            "Installing collected packages: pyngrok\n",
            "Successfully installed pyngrok-7.2.1\n",
            "\u001b[K\u001b[?25h\u001b[37;40mnpm\u001b[0m \u001b[0m\u001b[30;43mWARN\u001b[0m \u001b[0m\u001b[35mdeprecated\u001b[0m flatten@0.0.1: flatten is deprecated in favor of utility frameworks such as lodash.\n",
            "\u001b[K\u001b[?25h\u001b[37;40mnpm\u001b[0m \u001b[0m\u001b[30;43mWARN\u001b[0m \u001b[0m\u001b[35mdeprecated\u001b[0m glob@7.2.3: Glob versions prior to v9 are no longer supported\n",
            "\u001b[K\u001b[?25h\u001b[37;40mnpm\u001b[0m \u001b[0m\u001b[30;43mWARN\u001b[0m \u001b[0m\u001b[35mdeprecated\u001b[0m rimraf@2.7.1: Rimraf versions prior to v4 are no longer supported\n",
            "\u001b[K\u001b[?25h\u001b[37;40mnpm\u001b[0m \u001b[0m\u001b[30;43mWARN\u001b[0m \u001b[0m\u001b[35mdeprecated\u001b[0m xmldom@0.1.31: Deprecated due to CVE-2021-21366 resolved in 0.5.0\n",
            "\u001b[K\u001b[?25h\u001b[37;40mnpm\u001b[0m \u001b[0m\u001b[30;43mWARN\u001b[0m \u001b[0m\u001b[35mdeprecated\u001b[0m mkdirp@0.3.5: Legacy versions of mkdirp are no longer supported. Please update to mkdirp 1.x. (Note that the API surface has changed to use Promises in 1.x.)\n",
            "\u001b[K\u001b[?25h\u001b[37;40mnpm\u001b[0m \u001b[0m\u001b[30;43mWARN\u001b[0m \u001b[0m\u001b[35mdeprecated\u001b[0m inflight@1.0.6: This module is not supported, and leaks memory. Do not use it. Check out lru-cache if you want a good and tested way to coalesce async requests by a key value, which is much more comprehensive and powerful.\n",
            "\u001b[K\u001b[?25h\u001b[37;40mnpm\u001b[0m \u001b[0m\u001b[30;43mWARN\u001b[0m \u001b[0m\u001b[35mdeprecated\u001b[0m parse-torrent-file@2.1.4: Use the parse-torrent package instead\n",
            "\u001b[K\u001b[?25h\n",
            "added 272 packages, and audited 273 packages in 19s\n",
            "\n",
            "32 packages are looking for funding\n",
            "  run `npm fund` for details\n",
            "\n",
            "\u001b[31m\u001b[1m20\u001b[22m\u001b[39m vulnerabilities (1 \u001b[33m\u001b[1mmoderate\u001b[22m\u001b[39m, 11 \u001b[31m\u001b[1mhigh\u001b[22m\u001b[39m, 8 \u001b[35m\u001b[1mcritical\u001b[22m\u001b[39m)\n",
            "\n",
            "To address issues that do not require attention, run:\n",
            "  npm audit fix\n",
            "\n",
            "To address all issues (including breaking changes), run:\n",
            "  npm audit fix --force\n",
            "\n",
            "Run `npm audit` for details.\n"
          ]
        }
      ],
      "source": [
        "!curl -o- https://raw.githubusercontent.com/nvm-sh/nvm/v0.40.0/install.sh | bash\n",
        "# download and install Node.js (you may need to restart the terminal)\n",
        "!nvm install 22\n",
        "# verifies the right Node.js version is in the environment\n",
        "!node -v # should print `v22.11.0`\n",
        "# verifies the right npm version is in the environment\n",
        "!npm -v # should print `10.9.0`\n",
        "!pip install pyngrok\n",
        "!npm install -g peerflix\n"
      ]
    },
    {
      "cell_type": "code",
      "source": [],
      "metadata": {
        "id": "lZMo7MzBYD-D"
      },
      "execution_count": null,
      "outputs": []
    },
    {
      "cell_type": "code",
      "source": [
        "!ngrok config add-authtoken #yourauthtoken\n",
        "import subprocess\n",
        "import time\n",
        "from pyngrok import ngrok, conf\n",
        "\n",
        "def start_peerflix(magnet_link):\n",
        "    \"\"\"Start Peerflix to stream the magnet link.\"\"\"\n",
        "    peerflix_process = subprocess.Popen(\n",
        "        ['peerflix', magnet_link, '--port', '8888'],\n",
        "        stdout=subprocess.PIPE,\n",
        "        stderr=subprocess.PIPE\n",
        "    )\n",
        "    print(\"Peerflix started on port 8888.\")\n",
        "    return peerflix_process\n",
        "\n",
        "def start_ngrok():\n",
        "    \"\"\"Start an Ngrok tunnel for the Peerflix stream.\"\"\"\n",
        "    conf.get_default().monitor_thread = False  # Prevent pyngrok from opening a separate monitor thread\n",
        "    tunnel = ngrok.connect(addr=\"8888\", proto=\"http\")\n",
        "    print(f\"Ngrok tunnel established: {tunnel.public_url}\")\n",
        "    return tunnel\n",
        "\n",
        "def main():\n",
        "    magnet_link = input(\"Enter the magnet link: \")\n",
        "\n",
        "    # Start Peerflix\n",
        "    peerflix_process = start_peerflix(magnet_link)\n",
        "\n",
        "    try:\n",
        "        # Start Ngrok tunnel\n",
        "        tunnel = start_ngrok()\n",
        "        print(f\"Stream available at: {tunnel.public_url}\")\n",
        "\n",
        "        # Keep the script running to maintain the tunnel and Peerflix stream\n",
        "        print(\"Press Ctrl+C to stop...\")\n",
        "        while True:\n",
        "            time.sleep(1)\n",
        "    except KeyboardInterrupt:\n",
        "        print(\"\\nShutting down...\")\n",
        "    finally:\n",
        "        peerflix_process.terminate()\n",
        "        ngrok.disconnect(tunnel.public_url)\n",
        "        ngrok.kill()  # Ensure all tunnels are closed\n",
        "        print(\"Processes terminated.\")\n",
        "\n",
        "if __name__ == \"__main__\":\n",
        "    main()\n"
      ],
      "metadata": {
        "id": "iM-6Jyb-LAtv"
      },
      "execution_count": null,
      "outputs": []
    }
  ]
}